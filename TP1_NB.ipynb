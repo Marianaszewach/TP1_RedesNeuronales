{
  "nbformat": 4,
  "nbformat_minor": 0,
  "metadata": {
    "colab": {
      "name": "TP1 NB.ipynb",
      "provenance": [],
      "collapsed_sections": [
        "Uv6QzC9IDSlv",
        "exkMsGqfDK0N",
        "b1pWYHIR7BUo",
        "UKb7M25hD0w9",
        "xhBkRq5ID6_6",
        "XZOVfZdf-ZK9",
        "S1ex2fiG8CBa",
        "kXlf2FtWPUVL"
      ],
      "toc_visible": true
    },
    "kernelspec": {
      "name": "python3",
      "display_name": "Python 3"
    },
    "language_info": {
      "name": "python"
    }
  },
  "cells": [
    {
      "cell_type": "markdown",
      "metadata": {
        "id": "BENzZTIaiXU6"
      },
      "source": [
        "#**Trabajo Practico Nº1**\n",
        "**Mariana Szewach - Amalia Oxandaberro - Camila Cirignoli**\n",
        "\n",
        "***PARTE I***"
      ]
    },
    {
      "cell_type": "markdown",
      "metadata": {
        "id": "E5exhGNr6Kp6"
      },
      "source": [
        "Para la evaluación del TP se debe informar claramente:\n",
        "\n",
        "1) Técnica de validación utilizada. La metodología con respecto a este punto debe ser impecable. \\\\\n",
        "2) Elección de una métrica primaria \\\\\n",
        "3) Informar las métricas secundarias: Precision, Recall, F1-Score y ROC-AUC, explicando claramente qué mide cada una de ellas, sus ventajas y desventajas. \\\\\n",
        "4) Para las métricas mencionadas anteriormente realizar una interpretaciòn y comparación para el modelo NBMN y MLP. \\\\\n",
        "5) En las conclusiones informar si el dataset posee o no sesgos en el armado de los datos.\n"
      ]
    },
    {
      "cell_type": "markdown",
      "metadata": {
        "id": "Uv6QzC9IDSlv"
      },
      "source": [
        "#Librerías"
      ]
    },
    {
      "cell_type": "markdown",
      "metadata": {
        "id": "dzow-KpT6f2w"
      },
      "source": [
        "En primer lugar, se cargan todas las librerias a utilizar en el siguiente trabajo"
      ]
    },
    {
      "cell_type": "code",
      "metadata": {
        "id": "rElBTVeHBYpS",
        "colab": {
          "base_uri": "https://localhost:8080/"
        },
        "outputId": "9824d64a-0147-4ad9-c808-74772af690dd"
      },
      "source": [
        "import numpy as np # linear algebra\n",
        "import pandas as pd # data processing, CSV file I/O (e.g. pd.read_csv)\n",
        "import matplotlib.pyplot as plt\n",
        "from sklearn.feature_extraction.text import CountVectorizer, TfidfVectorizer\n",
        "from sklearn.naive_bayes import MultinomialNB\n",
        "import nltk\n",
        "nltk.download('punkt')\n",
        "nltk.download('wordnet')\n",
        "nltk.download('stopwords')\n",
        "nltk.download('averaged_perceptron_tagger')\n",
        "from nltk.tokenize import word_tokenize\n",
        "from nltk.stem import PorterStemmer, WordNetLemmatizer\n",
        "from nltk.corpus import stopwords\n",
        "from string import punctuation\n",
        "from termcolor import colored\n",
        "from collections import Counter\n",
        "\n",
        "from sklearn.metrics import confusion_matrix\n",
        "from sklearn.metrics import plot_confusion_matrix\n",
        "from sklearn.metrics import average_precision_score\n",
        "from sklearn.metrics import classification_report\n",
        "from sklearn.metrics import precision_score\n",
        "from sklearn.metrics import recall_score\n",
        "from sklearn.metrics import accuracy_score\n",
        "from sklearn.metrics import f1_score"
      ],
      "execution_count": null,
      "outputs": [
        {
          "output_type": "stream",
          "name": "stdout",
          "text": [
            "[nltk_data] Downloading package punkt to /root/nltk_data...\n",
            "[nltk_data]   Package punkt is already up-to-date!\n",
            "[nltk_data] Downloading package wordnet to /root/nltk_data...\n",
            "[nltk_data]   Package wordnet is already up-to-date!\n",
            "[nltk_data] Downloading package stopwords to /root/nltk_data...\n",
            "[nltk_data]   Package stopwords is already up-to-date!\n",
            "[nltk_data] Downloading package averaged_perceptron_tagger to\n",
            "[nltk_data]     /root/nltk_data...\n",
            "[nltk_data]   Package averaged_perceptron_tagger is already up-to-\n",
            "[nltk_data]       date!\n"
          ]
        }
      ]
    },
    {
      "cell_type": "markdown",
      "metadata": {
        "id": "exkMsGqfDK0N"
      },
      "source": [
        "#Cargar datos de Kaggle"
      ]
    },
    {
      "cell_type": "markdown",
      "metadata": {
        "id": "WFlNNTp96ra6"
      },
      "source": [
        "Luego se prosigue cargando los datos desde kaggle"
      ]
    },
    {
      "cell_type": "code",
      "metadata": {
        "colab": {
          "resources": {
            "http://localhost:8080/nbextensions/google.colab/files.js": {
              "data": "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",
              "ok": true,
              "headers": [
                [
                  "content-type",
                  "application/javascript"
                ]
              ],
              "status": 200,
              "status_text": ""
            }
          },
          "base_uri": "https://localhost:8080/",
          "height": 90
        },
        "id": "Ey4pn5h8BGKk",
        "outputId": "86485120-913d-4107-e7ec-51e25c9038bb"
      },
      "source": [
        "!pip install -U -q kaggle\n",
        "!mkdir -p ~/.kaggle\n",
        "from google.colab import files\n",
        "files.upload()"
      ],
      "execution_count": null,
      "outputs": [
        {
          "output_type": "display_data",
          "data": {
            "text/html": [
              "\n",
              "     <input type=\"file\" id=\"files-89d65f54-e6ef-4a9c-b56b-9cad74f01034\" name=\"files[]\" multiple disabled\n",
              "        style=\"border:none\" />\n",
              "     <output id=\"result-89d65f54-e6ef-4a9c-b56b-9cad74f01034\">\n",
              "      Upload widget is only available when the cell has been executed in the\n",
              "      current browser session. Please rerun this cell to enable.\n",
              "      </output>\n",
              "      <script src=\"/nbextensions/google.colab/files.js\"></script> "
            ],
            "text/plain": [
              "<IPython.core.display.HTML object>"
            ]
          },
          "metadata": {}
        },
        {
          "output_type": "stream",
          "name": "stdout",
          "text": [
            "Saving kaggle.json to kaggle (2).json\n"
          ]
        },
        {
          "output_type": "execute_result",
          "data": {
            "text/plain": [
              "{'kaggle.json': b'{\"username\":\"amaliaoxandaberro\",\"key\":\"dc3caded742346409c8426f0109c18a1\"}'}"
            ]
          },
          "metadata": {},
          "execution_count": 2
        }
      ]
    },
    {
      "cell_type": "code",
      "metadata": {
        "colab": {
          "base_uri": "https://localhost:8080/"
        },
        "id": "u-I3digvCVFw",
        "outputId": "22effdfc-dcda-40ab-bea2-a4a224d25f0b"
      },
      "source": [
        "!cp kaggle.json ~/.kaggle/\n",
        "!kaggle competitions download -c sesgos-en-el-dataset-de-snli"
      ],
      "execution_count": null,
      "outputs": [
        {
          "output_type": "stream",
          "name": "stdout",
          "text": [
            "Warning: Your Kaggle API key is readable by other users on this system! To fix this, you can run 'chmod 600 /root/.kaggle/kaggle.json'\n",
            "Warning: Looks like you're using an outdated API Version, please consider updating (server 1.5.12 / client 1.5.4)\n",
            "train_data.hdf5.zip: Skipping, found more recently modified local copy (use --force to force download)\n",
            "valid_data.hdf5.zip: Skipping, found more recently modified local copy (use --force to force download)\n",
            "submission_sample.csv: Skipping, found more recently modified local copy (use --force to force download)\n",
            "test_data.hdf5.zip: Skipping, found more recently modified local copy (use --force to force download)\n"
          ]
        }
      ]
    },
    {
      "cell_type": "code",
      "metadata": {
        "id": "RcmtxGNPD3vb",
        "colab": {
          "base_uri": "https://localhost:8080/"
        },
        "outputId": "3dac1d53-c9fe-4df3-b75c-afd48eef915c"
      },
      "source": [
        "!unzip test_data.hdf5.zip\n",
        "!unzip train_data.hdf5.zip\n",
        "!unzip valid_data.hdf5.zip"
      ],
      "execution_count": null,
      "outputs": [
        {
          "output_type": "stream",
          "name": "stdout",
          "text": [
            "Archive:  test_data.hdf5.zip\n",
            "replace test_data.hdf5? [y]es, [n]o, [A]ll, [N]one, [r]ename: y\n",
            "  inflating: test_data.hdf5          \n",
            "Archive:  train_data.hdf5.zip\n",
            "replace train_data.hdf5? [y]es, [n]o, [A]ll, [N]one, [r]ename: y\n",
            "  inflating: train_data.hdf5         \n",
            "Archive:  valid_data.hdf5.zip\n",
            "replace valid_data.hdf5? [y]es, [n]o, [A]ll, [N]one, [r]ename: y\n",
            "  inflating: valid_data.hdf5         \n"
          ]
        }
      ]
    },
    {
      "cell_type": "code",
      "metadata": {
        "id": "QdHA2X0XNO1_"
      },
      "source": [
        "df_train = pd.read_hdf(\"/content/train_data.hdf5\")\n",
        "df_valid = pd.read_hdf(\"/content/valid_data.hdf5\")\n",
        "df_test = pd.read_hdf(\"/content/test_data.hdf5\")"
      ],
      "execution_count": null,
      "outputs": []
    },
    {
      "cell_type": "markdown",
      "metadata": {
        "id": "b1pWYHIR7BUo"
      },
      "source": [
        "#Análisis de los datos"
      ]
    },
    {
      "cell_type": "markdown",
      "metadata": {
        "id": "YGjIr6pTkRM8"
      },
      "source": [
        "El dataset de SNLI consta de 569033 entradas con dos frases: premisas e hipótesis. A cada entrada se le asigna una etiqueta: entailment, contradiction o neutral. \n",
        "\n",
        "Dadas dos frases A y B, si B es implicación de A (\"entailment\"), B es contradictorio con A (\"contradiction\") o si lo que enuncia B es neutral respecto de A (\"neutral\"). Se dice que A es la premisa y B es la hipótesis. \\\\\n",
        "En Gururangan et al., 2018 mostraron que este dataset tiene algunos sesgos, provocados por ejemplo por las heurísticas que tienen los humanos para generar estos pares de frases (A, B). Para ello, desarrollaron un modelo que aún sin observar la premisa A pudiera clasificar el par (A,B) en alguna de las clases del dataset. En este trabajo práctico intentaremos predecir a qué clase pertenece cada una de las hipótesis sin observar la premisa. La idea es replicar los resultados publicados en Gururangan et al., 2018 y mejorarlos si es posible utilizando clasificadores más complejos.\n",
        "\n",
        "\n",
        "Se analiza tanto el formato como la estructura del dataset para comprender su composición y la distribución de los datos los cuales se encuentran divididos en las categorías entrenamiento, validación y prueba."
      ]
    },
    {
      "cell_type": "markdown",
      "metadata": {
        "id": "mN2-aoAz-dQV"
      },
      "source": [
        "Se pasaron los datos a listas para poder utilizar luego el vectorizador Count Vectorizer.  "
      ]
    },
    {
      "cell_type": "code",
      "metadata": {
        "id": "wofJTFiNOYVU"
      },
      "source": [
        "text_train = df_train[\"text\"].tolist()\n",
        "labels_train = df_train[\"gold_label\"].tolist()\n",
        "\n",
        "text_valid = df_valid[\"text\"].tolist()\n",
        "labels_valid = df_valid[\"gold_label\"].tolist()\n",
        "\n",
        "text_test = df_test[\"text\"].tolist()"
      ],
      "execution_count": null,
      "outputs": []
    },
    {
      "cell_type": "markdown",
      "metadata": {
        "id": "3sApKM2NlA2s"
      },
      "source": [
        "A continuación se pueden visualizar el formato de los datos junto con las labels existentes. \\\\\n",
        "\n",
        "Se observa que en los tres grupos hay palabras con mayúsculas, minúsculas y signos de puntuación, lo que es tenido en cuenta para el posterior preprocesamiento. "
      ]
    },
    {
      "cell_type": "code",
      "metadata": {
        "colab": {
          "base_uri": "https://localhost:8080/"
        },
        "id": "70gYSWnV7HyC",
        "outputId": "3f7b70cc-d7ee-44e0-8fa9-c4f1cd52de88"
      },
      "source": [
        "df_train.head()"
      ],
      "execution_count": null,
      "outputs": [
        {
          "output_type": "execute_result",
          "data": {
            "text/html": [
              "<div>\n",
              "<style scoped>\n",
              "    .dataframe tbody tr th:only-of-type {\n",
              "        vertical-align: middle;\n",
              "    }\n",
              "\n",
              "    .dataframe tbody tr th {\n",
              "        vertical-align: top;\n",
              "    }\n",
              "\n",
              "    .dataframe thead th {\n",
              "        text-align: right;\n",
              "    }\n",
              "</style>\n",
              "<table border=\"1\" class=\"dataframe\">\n",
              "  <thead>\n",
              "    <tr style=\"text-align: right;\">\n",
              "      <th></th>\n",
              "      <th>gold_label</th>\n",
              "      <th>text</th>\n",
              "    </tr>\n",
              "    <tr>\n",
              "      <th>pairID</th>\n",
              "      <th></th>\n",
              "      <th></th>\n",
              "    </tr>\n",
              "  </thead>\n",
              "  <tbody>\n",
              "    <tr>\n",
              "      <th>1000092795.jpg#0r1c</th>\n",
              "      <td>contradiction</td>\n",
              "      <td>they are inside of a house</td>\n",
              "    </tr>\n",
              "    <tr>\n",
              "      <th>1000092795.jpg#0r1e</th>\n",
              "      <td>entailment</td>\n",
              "      <td>two guys are in a yard</td>\n",
              "    </tr>\n",
              "    <tr>\n",
              "      <th>1000092795.jpg#0r1n</th>\n",
              "      <td>neutral</td>\n",
              "      <td>They are doing yardwork</td>\n",
              "    </tr>\n",
              "    <tr>\n",
              "      <th>1000092795.jpg#1r1c</th>\n",
              "      <td>contradiction</td>\n",
              "      <td>A man is swimming.</td>\n",
              "    </tr>\n",
              "    <tr>\n",
              "      <th>1000092795.jpg#1r1e</th>\n",
              "      <td>entailment</td>\n",
              "      <td>Two young white men are near some bushes.</td>\n",
              "    </tr>\n",
              "  </tbody>\n",
              "</table>\n",
              "</div>"
            ],
            "text/plain": [
              "                        gold_label                                       text\n",
              "pairID                                                                       \n",
              "1000092795.jpg#0r1c  contradiction                 they are inside of a house\n",
              "1000092795.jpg#0r1e     entailment                     two guys are in a yard\n",
              "1000092795.jpg#0r1n        neutral                    They are doing yardwork\n",
              "1000092795.jpg#1r1c  contradiction                         A man is swimming.\n",
              "1000092795.jpg#1r1e     entailment  Two young white men are near some bushes."
            ]
          },
          "metadata": {},
          "execution_count": 7
        }
      ]
    },
    {
      "cell_type": "code",
      "metadata": {
        "colab": {
          "base_uri": "https://localhost:8080/"
        },
        "id": "p3ntJRhx7drn",
        "outputId": "f4c570bd-bbac-4473-e1c1-74dc3187a35f"
      },
      "source": [
        "df_valid.head()"
      ],
      "execution_count": null,
      "outputs": [
        {
          "output_type": "execute_result",
          "data": {
            "text/html": [
              "<div>\n",
              "<style scoped>\n",
              "    .dataframe tbody tr th:only-of-type {\n",
              "        vertical-align: middle;\n",
              "    }\n",
              "\n",
              "    .dataframe tbody tr th {\n",
              "        vertical-align: top;\n",
              "    }\n",
              "\n",
              "    .dataframe thead th {\n",
              "        text-align: right;\n",
              "    }\n",
              "</style>\n",
              "<table border=\"1\" class=\"dataframe\">\n",
              "  <thead>\n",
              "    <tr style=\"text-align: right;\">\n",
              "      <th></th>\n",
              "      <th>gold_label</th>\n",
              "      <th>text</th>\n",
              "    </tr>\n",
              "    <tr>\n",
              "      <th>pairID</th>\n",
              "      <th></th>\n",
              "      <th></th>\n",
              "    </tr>\n",
              "  </thead>\n",
              "  <tbody>\n",
              "    <tr>\n",
              "      <th>100197432.jpg#4r1c</th>\n",
              "      <td>contradiction</td>\n",
              "      <td>The women are seated in a bistro eating lunch.</td>\n",
              "    </tr>\n",
              "    <tr>\n",
              "      <th>100197432.jpg#4r1e</th>\n",
              "      <td>entailment</td>\n",
              "      <td>There are muliple women outdoors.</td>\n",
              "    </tr>\n",
              "    <tr>\n",
              "      <th>100197432.jpg#4r1n</th>\n",
              "      <td>neutral</td>\n",
              "      <td>The women are friends.</td>\n",
              "    </tr>\n",
              "    <tr>\n",
              "      <th>1026792563.jpg#1r1c</th>\n",
              "      <td>contradiction</td>\n",
              "      <td>A group of women are fishing</td>\n",
              "    </tr>\n",
              "    <tr>\n",
              "      <th>1026792563.jpg#1r1e</th>\n",
              "      <td>entailment</td>\n",
              "      <td>A group of women are selling their wares</td>\n",
              "    </tr>\n",
              "  </tbody>\n",
              "</table>\n",
              "</div>"
            ],
            "text/plain": [
              "                        gold_label                                            text\n",
              "pairID                                                                            \n",
              "100197432.jpg#4r1c   contradiction  The women are seated in a bistro eating lunch.\n",
              "100197432.jpg#4r1e      entailment               There are muliple women outdoors.\n",
              "100197432.jpg#4r1n         neutral                          The women are friends.\n",
              "1026792563.jpg#1r1c  contradiction                    A group of women are fishing\n",
              "1026792563.jpg#1r1e     entailment        A group of women are selling their wares"
            ]
          },
          "metadata": {},
          "execution_count": 8
        }
      ]
    },
    {
      "cell_type": "code",
      "metadata": {
        "colab": {
          "base_uri": "https://localhost:8080/"
        },
        "id": "0HTJJmcV7iH1",
        "outputId": "8d994e04-163f-407b-d22e-19517a39ebfc"
      },
      "source": [
        "df_test.head()"
      ],
      "execution_count": null,
      "outputs": [
        {
          "output_type": "execute_result",
          "data": {
            "text/html": [
              "<div>\n",
              "<style scoped>\n",
              "    .dataframe tbody tr th:only-of-type {\n",
              "        vertical-align: middle;\n",
              "    }\n",
              "\n",
              "    .dataframe tbody tr th {\n",
              "        vertical-align: top;\n",
              "    }\n",
              "\n",
              "    .dataframe thead th {\n",
              "        text-align: right;\n",
              "    }\n",
              "</style>\n",
              "<table border=\"1\" class=\"dataframe\">\n",
              "  <thead>\n",
              "    <tr style=\"text-align: right;\">\n",
              "      <th></th>\n",
              "      <th>text</th>\n",
              "    </tr>\n",
              "    <tr>\n",
              "      <th>pairID</th>\n",
              "      <th></th>\n",
              "    </tr>\n",
              "  </thead>\n",
              "  <tbody>\n",
              "    <tr>\n",
              "      <th>0</th>\n",
              "      <td>The church has cracks in the ceiling.</td>\n",
              "    </tr>\n",
              "    <tr>\n",
              "      <th>1</th>\n",
              "      <td>The church is filled with song.</td>\n",
              "    </tr>\n",
              "    <tr>\n",
              "      <th>2</th>\n",
              "      <td>A choir singing at a baseball game.</td>\n",
              "    </tr>\n",
              "    <tr>\n",
              "      <th>3</th>\n",
              "      <td>The woman is young.</td>\n",
              "    </tr>\n",
              "    <tr>\n",
              "      <th>4</th>\n",
              "      <td>The woman is very happy.</td>\n",
              "    </tr>\n",
              "  </tbody>\n",
              "</table>\n",
              "</div>"
            ],
            "text/plain": [
              "                                         text\n",
              "pairID                                       \n",
              "0       The church has cracks in the ceiling.\n",
              "1             The church is filled with song.\n",
              "2         A choir singing at a baseball game.\n",
              "3                         The woman is young.\n",
              "4                    The woman is very happy."
            ]
          },
          "metadata": {},
          "execution_count": 9
        }
      ]
    },
    {
      "cell_type": "markdown",
      "metadata": {
        "id": "mYrrH_Cx7m2X"
      },
      "source": [
        "En los siguientes gráficos de tortas se pueden ver representadas las tres categorías existentes: contradiction, neutral e entailment con el objetivo de determinar si las clases se encuentran balanceadas tanto en train como en valid."
      ]
    },
    {
      "cell_type": "code",
      "metadata": {
        "colab": {
          "base_uri": "https://localhost:8080/"
        },
        "id": "LQo7FNG071OS",
        "outputId": "87ba974f-4616-4bd7-a3e3-1c043bc41fe7"
      },
      "source": [
        "df_train[\"gold_label\"].value_counts().plot(kind='pie', labels=df_train[\"gold_label\"], autopct='%1.0f%%', subplots=True, figsize=(4, 4))"
      ],
      "execution_count": null,
      "outputs": [
        {
          "output_type": "execute_result",
          "data": {
            "text/plain": [
              "array([<matplotlib.axes._subplots.AxesSubplot object at 0x7fd73747b690>],\n",
              "      dtype=object)"
            ]
          },
          "metadata": {},
          "execution_count": 10
        },
        {
          "output_type": "display_data",
          "data": {
            "image/png": "[encoded data removed]",
            "text/plain": [
              "<Figure size 288x288 with 1 Axes>"
            ]
          },
          "metadata": {}
        }
      ]
    },
    {
      "cell_type": "code",
      "metadata": {
        "colab": {
          "base_uri": "https://localhost:8080/"
        },
        "id": "u9yMRkSA_-uH",
        "outputId": "7d450a5e-efb4-44a3-ffab-5aeb7a9d693c"
      },
      "source": [
        "df_valid[\"gold_label\"].value_counts().plot(kind='pie', labels=df_train[\"gold_label\"], autopct='%1.0f%%', subplots=True, figsize=(4, 4))"
      ],
      "execution_count": null,
      "outputs": [
        {
          "output_type": "execute_result",
          "data": {
            "text/plain": [
              "array([<matplotlib.axes._subplots.AxesSubplot object at 0x7fd70aed6210>],\n",
              "      dtype=object)"
            ]
          },
          "metadata": {},
          "execution_count": 11
        },
        {
          "output_type": "display_data",
          "data": {
            "image/png": "[encoded data removed]",
            "text/plain": [
              "<Figure size 288x288 with 1 Axes>"
            ]
          },
          "metadata": {}
        }
      ]
    },
    {
      "cell_type": "markdown",
      "metadata": {
        "id": "sB7h5bDpow_4"
      },
      "source": [
        "A continuación se observa la similitud en la cantidad de valores de cada categoría."
      ]
    },
    {
      "cell_type": "code",
      "metadata": {
        "colab": {
          "base_uri": "https://localhost:8080/"
        },
        "id": "Cq_ylVfX-D6T",
        "outputId": "884f16c4-800e-4b96-c09c-622ac840f446"
      },
      "source": [
        "Counter(labels_train)"
      ],
      "execution_count": null,
      "outputs": [
        {
          "output_type": "execute_result",
          "data": {
            "text/plain": [
              "Counter({'contradiction': 183187, 'entailment': 183416, 'neutral': 182764})"
            ]
          },
          "metadata": {},
          "execution_count": 12
        }
      ]
    },
    {
      "cell_type": "markdown",
      "metadata": {
        "id": "v7qUeUNqrFW1"
      },
      "source": [
        "Se presentan la cantidad de datos para entrenamiento, validación y prueba con sus respectivos porcentajes "
      ]
    },
    {
      "cell_type": "code",
      "metadata": {
        "colab": {
          "base_uri": "https://localhost:8080/"
        },
        "id": "d6X37uVM-NWA",
        "outputId": "a5c4d5e2-c235-440e-f290-44dcb258ecdf"
      },
      "source": [
        "tot = len(text_train) + len(text_valid) + len(text_test)\n",
        "train_p = (len(text_train)*100)/tot\n",
        "valid_p = (len(text_valid)*100)/tot\n",
        "test_p = (len(text_test)*100)/tot\n",
        "print(\"Cantidad de datos para entrenamiento: \" + str(len(text_train)) + \" (\"+ str(train_p) + \"% de los datos totales)\")\n",
        "print(\"Cantidad de datos para validación: \" + str(len(text_valid)) + \" (\"+ str(valid_p) + \"% de los datos totales)\")\n",
        "print(\"Cantidad de datos para test: \" + str(len(text_test)) + \" (\"+ str(test_p) + \"% de los datos totales)\")"
      ],
      "execution_count": null,
      "outputs": [
        {
          "output_type": "stream",
          "name": "stdout",
          "text": [
            "Cantidad de datos para entrenamiento: 549367 (96.54396142227252% de los datos totales)\n",
            "Cantidad de datos para validación: 9842 (1.7296009194545834% de los datos totales)\n",
            "Cantidad de datos para test: 9824 (1.7264376582728946% de los datos totales)\n"
          ]
        }
      ]
    },
    {
      "cell_type": "markdown",
      "metadata": {
        "id": "UKb7M25hD0w9"
      },
      "source": [
        "#Modelo sencillo visto en clase"
      ]
    },
    {
      "cell_type": "code",
      "metadata": {
        "id": "KdPu9sYgOnMH"
      },
      "source": [
        "cv = CountVectorizer(min_df=100, ngram_range = (1,2)) \n"
      ],
      "execution_count": null,
      "outputs": []
    },
    {
      "cell_type": "code",
      "metadata": {
        "id": "lFsDjoq9OqFS"
      },
      "source": [
        "cv_train = cv.fit_transform(text_train)\n",
        "cv_valid = cv.transform(text_valid)"
      ],
      "execution_count": null,
      "outputs": []
    },
    {
      "cell_type": "code",
      "metadata": {
        "id": "tCiBWdXGO1sl",
        "colab": {
          "base_uri": "https://localhost:8080/"
        },
        "outputId": "bd9ac602-d595-4a3b-88e3-b2766fd96ba1"
      },
      "source": [
        "clf = MultinomialNB(alpha=1e-10)\n",
        "clf.fit(cv_train, labels_train)"
      ],
      "execution_count": null,
      "outputs": [
        {
          "output_type": "execute_result",
          "data": {
            "text/plain": [
              "MultinomialNB(alpha=1e-10, class_prior=None, fit_prior=True)"
            ]
          },
          "metadata": {},
          "execution_count": 16
        }
      ]
    },
    {
      "cell_type": "code",
      "metadata": {
        "colab": {
          "base_uri": "https://localhost:8080/"
        },
        "id": "RzxC1LIRKFEh",
        "outputId": "6fa76c75-46b3-4157-98fb-d50a84d82326"
      },
      "source": [
        "print(clf.score(cv_train, labels_train))\n",
        "print(clf.score(cv_valid, labels_valid))"
      ],
      "execution_count": null,
      "outputs": [
        {
          "output_type": "stream",
          "name": "stdout",
          "text": [
            "0.6059646829896954\n",
            "0.6143060353586669\n"
          ]
        }
      ]
    },
    {
      "cell_type": "markdown",
      "metadata": {
        "id": "0kAAjpCUvW0Q"
      },
      "source": [
        "#Modelo con preprocesamiento de texto"
      ]
    },
    {
      "cell_type": "markdown",
      "metadata": {
        "id": "xhBkRq5ID6_6"
      },
      "source": [
        "##Preprocesamiento de texto"
      ]
    },
    {
      "cell_type": "markdown",
      "metadata": {
        "id": "XZOVfZdf-ZK9"
      },
      "source": [
        "###Preprocesadores\n",
        "\n",
        "A continuación se prueban los siguientes preprocesadores de texto:\n",
        "\n",
        "*   Procesamiento básico: pasaje a minúsculas, eliminación de stopwords y eliminación de signos de puntuación.\n",
        "*   Procesamiento básico con stemming: pasaje a minúsculas, eliminación de stopwords, eliminación de signos de puntuación y conversión de palabras a su raiz (stemming).\n",
        "*   Procesamiento básico con lemmatizer: pasaje a minúsculas, eliminación de stopwords, eliminación de signos de puntuación, unificación de género en las palabras y pasaje de verbos al infinitvo (lemmatizer).\n",
        "*  Procesamiento con lemmatizer y atributo POS: el atributo POS corresponde a un proceso de etiquetado a cada palabra en una oración según su clase (sustantivo, adjetivo, verbo). En este procesador se tiene en cuenta este atributo junto con el item anterior. \n",
        "* Procesamiento con stemming, lemmatizer y atributo POS: este procesador engloba todas las características listadas anteriormente. "
      ]
    },
    {
      "cell_type": "code",
      "metadata": {
        "id": "cs1DR7tID9hw"
      },
      "source": [
        "#lower, elimina stop words y signos de puntuación \n",
        "def p_basico(text):\n",
        "\n",
        "  stoplist = set(nltk.corpus.stopwords.words('english') + list(punctuation)) \n",
        "  \n",
        "  words =[token.lower() for token in nltk.word_tokenize(text) if (token.lower() not in stoplist) and token.isalpha()]\n",
        "\n",
        "  return ' '.join(words) \n",
        "\n",
        "#procesador basico + stemer\n",
        "def p_basico_Stem(text):\n",
        "  \n",
        "  # stem words\n",
        "  stemmer = nltk.stem.PorterStemmer()\n",
        "\n",
        "  stoplist = set(nltk.corpus.stopwords.words('english') + list(punctuation))\n",
        "  \n",
        "  words =[token.lower() for token in nltk.word_tokenize(text) if (token.lower() not in stoplist) and token.isalpha()]\n",
        "  stemmed_words=[stemmer.stem(word=word) for word in words]\n",
        "\n",
        "  return ' '.join(stemmed_words)\n",
        "\n",
        "\n",
        "#procesador basico + lemmatizer\n",
        "def p_basico_Lemma(text):\n",
        "  \n",
        "  # stem words\n",
        "  lemmatizer = nltk.stem.WordNetLemmatizer()\n",
        "\n",
        "  stoplist = set(nltk.corpus.stopwords.words('english') + list(punctuation))\n",
        "  \n",
        "  words =[token.lower() for token in nltk.word_tokenize(text) if (token.lower() not in stoplist) and token.isalpha()]\n",
        "  lemma_words=[lemmatizer.lemmatize(word=word) for word in words]\n",
        "\n",
        "  return ' '.join(lemma_words)\n",
        "\n",
        "\n",
        "# agrega el atributo POS según el tag de la palabra\n",
        "def nltk_tag_to_wordnet_tag(nltk_tag):\n",
        "  if nltk_tag.startswith('J'):\n",
        "      return nltk.corpus.wordnet.ADJ\n",
        "  elif nltk_tag.startswith('V'):\n",
        "      return nltk.corpus.wordnet.VERB\n",
        "  elif nltk_tag.startswith('N'):\n",
        "      return nltk.corpus.wordnet.NOUN\n",
        "  elif nltk_tag.startswith('R'):\n",
        "      return nltk.corpus.wordnet.ADV\n",
        "  else:          \n",
        "      return None\n",
        "\n",
        "def p_Lemma_POS(sentence):\n",
        "\n",
        "  lemmatizer = nltk.stem.WordNetLemmatizer()\n",
        "  stoplist = set(nltk.corpus.stopwords.words('english') + list(punctuation))\n",
        "  words =[token.lower() for token in nltk.word_tokenize(sentence) if (token.lower() not in stoplist) and token.isalpha()]\n",
        "  nltk_tagged = nltk.pos_tag(words)  \n",
        "\n",
        "  wordnet_tagged = map(lambda x: (x[0], nltk_tag_to_wordnet_tag(x[1])), nltk_tagged)\n",
        "  lemmatized_sentence = []\n",
        "  for word, tag in wordnet_tagged:\n",
        "      if tag is None:\n",
        "          lemmatized_sentence.append(word)\n",
        "      else:        \n",
        "          lemmatized_sentence.append(lemmatizer.lemmatize(word, tag))\n",
        "  return \" \".join(lemmatized_sentence)\n",
        "\n",
        "\n",
        "#procesador basico + lemmatizer con POS y stemming\n",
        "def p_Lemma_POS_Stem(sentence):\n",
        "\n",
        "  lemmatizer = nltk.stem.WordNetLemmatizer()\n",
        "  stemmer = nltk.stem.PorterStemmer()\n",
        "\n",
        "  stoplist = set(nltk.corpus.stopwords.words('english') + list(punctuation))\n",
        "  words =[token.lower() for token in nltk.word_tokenize(sentence) if (token.lower() not in stoplist) and token.isalpha()]\n",
        "  nltk_tagged = nltk.pos_tag(words)  \n",
        "\n",
        "  wordnet_tagged = map(lambda x: (x[0], nltk_tag_to_wordnet_tag(x[1])), nltk_tagged)\n",
        "  stem_sentence = []\n",
        "  for word, tag in wordnet_tagged:\n",
        "      if tag is None:\n",
        "          stem_sentence.append(stemmer.stem(word))\n",
        "      else:        \n",
        "          stem_sentence.append(stemmer.stem(lemmatizer.lemmatize(word, tag)))\n",
        "  return \" \".join(stem_sentence)\n",
        "\n"
      ],
      "execution_count": null,
      "outputs": []
    },
    {
      "cell_type": "markdown",
      "metadata": {
        "id": "S1ex2fiG8CBa"
      },
      "source": [
        "###Prueba de los preprocesadores"
      ]
    },
    {
      "cell_type": "markdown",
      "metadata": {
        "id": "HPxITAVwy6nq"
      },
      "source": [
        "A continuación se prueban cada uno de los preprocesadores para comprobar su respectivo funcionamiento, utilizando los primeros 5 datos del set de train.\n"
      ]
    },
    {
      "cell_type": "code",
      "metadata": {
        "colab": {
          "base_uri": "https://localhost:8080/"
        },
        "id": "uIyH8jVT01MQ",
        "outputId": "68eb7ce9-0b4e-43d8-ed26-ad7bed884624"
      },
      "source": [
        "df_train.head()"
      ],
      "execution_count": null,
      "outputs": [
        {
          "output_type": "execute_result",
          "data": {
            "text/html": [
              "<div>\n",
              "<style scoped>\n",
              "    .dataframe tbody tr th:only-of-type {\n",
              "        vertical-align: middle;\n",
              "    }\n",
              "\n",
              "    .dataframe tbody tr th {\n",
              "        vertical-align: top;\n",
              "    }\n",
              "\n",
              "    .dataframe thead th {\n",
              "        text-align: right;\n",
              "    }\n",
              "</style>\n",
              "<table border=\"1\" class=\"dataframe\">\n",
              "  <thead>\n",
              "    <tr style=\"text-align: right;\">\n",
              "      <th></th>\n",
              "      <th>gold_label</th>\n",
              "      <th>text</th>\n",
              "    </tr>\n",
              "    <tr>\n",
              "      <th>pairID</th>\n",
              "      <th></th>\n",
              "      <th></th>\n",
              "    </tr>\n",
              "  </thead>\n",
              "  <tbody>\n",
              "    <tr>\n",
              "      <th>1000092795.jpg#0r1c</th>\n",
              "      <td>contradiction</td>\n",
              "      <td>they are inside of a house</td>\n",
              "    </tr>\n",
              "    <tr>\n",
              "      <th>1000092795.jpg#0r1e</th>\n",
              "      <td>entailment</td>\n",
              "      <td>two guys are in a yard</td>\n",
              "    </tr>\n",
              "    <tr>\n",
              "      <th>1000092795.jpg#0r1n</th>\n",
              "      <td>neutral</td>\n",
              "      <td>They are doing yardwork</td>\n",
              "    </tr>\n",
              "    <tr>\n",
              "      <th>1000092795.jpg#1r1c</th>\n",
              "      <td>contradiction</td>\n",
              "      <td>A man is swimming.</td>\n",
              "    </tr>\n",
              "    <tr>\n",
              "      <th>1000092795.jpg#1r1e</th>\n",
              "      <td>entailment</td>\n",
              "      <td>Two young white men are near some bushes.</td>\n",
              "    </tr>\n",
              "  </tbody>\n",
              "</table>\n",
              "</div>"
            ],
            "text/plain": [
              "                        gold_label                                       text\n",
              "pairID                                                                       \n",
              "1000092795.jpg#0r1c  contradiction                 they are inside of a house\n",
              "1000092795.jpg#0r1e     entailment                     two guys are in a yard\n",
              "1000092795.jpg#0r1n        neutral                    They are doing yardwork\n",
              "1000092795.jpg#1r1c  contradiction                         A man is swimming.\n",
              "1000092795.jpg#1r1e     entailment  Two young white men are near some bushes."
            ]
          },
          "metadata": {},
          "execution_count": 19
        }
      ]
    },
    {
      "cell_type": "code",
      "metadata": {
        "id": "PHVQOEKB1Nfl",
        "colab": {
          "base_uri": "https://localhost:8080/"
        },
        "outputId": "e674473d-23f3-4af1-a085-bafe3fd03987"
      },
      "source": [
        "print(colored('Stop words, lower y puntuación', attrs=['bold', 'underline']))\n",
        "for i in range(5):\n",
        "  proc = p_basico(text_train[i])\n",
        "  print(proc)"
      ],
      "execution_count": null,
      "outputs": [
        {
          "output_type": "stream",
          "name": "stdout",
          "text": [
            "\u001b[4m\u001b[1mStop words, lower y puntuación\u001b[0m\n",
            "inside house\n",
            "two guys yard\n",
            "yardwork\n",
            "man swimming\n",
            "two young white men near bushes\n"
          ]
        }
      ]
    },
    {
      "cell_type": "code",
      "metadata": {
        "id": "u1LeA_J92otn",
        "colab": {
          "base_uri": "https://localhost:8080/"
        },
        "outputId": "a5403267-27be-4fae-f7aa-560219de5326"
      },
      "source": [
        "print(colored('Stop words, lower y puntuación + Stemming', attrs=['bold', 'underline']))\n",
        "for i in range(5):\n",
        "  proc = p_basico_Stem(text_train[i])\n",
        "  print(proc)"
      ],
      "execution_count": null,
      "outputs": [
        {
          "output_type": "stream",
          "name": "stdout",
          "text": [
            "\u001b[4m\u001b[1mStop words, lower y puntuación + Stemming\u001b[0m\n",
            "insid hous\n",
            "two guy yard\n",
            "yardwork\n",
            "man swim\n",
            "two young white men near bush\n"
          ]
        }
      ]
    },
    {
      "cell_type": "code",
      "metadata": {
        "id": "p37HVf6J2vU_",
        "colab": {
          "base_uri": "https://localhost:8080/"
        },
        "outputId": "f00ab3cf-282f-41de-f743-bca4f69693ac"
      },
      "source": [
        "print(colored('Stop words, lower y puntuación + Lemmatización', attrs=['bold', 'underline']))\n",
        "for i in range(5):\n",
        "  proc = p_basico_Lemma(text_train[i])\n",
        "  print(proc)"
      ],
      "execution_count": null,
      "outputs": [
        {
          "output_type": "stream",
          "name": "stdout",
          "text": [
            "\u001b[4m\u001b[1mStop words, lower y puntuación + Lemmatización\u001b[0m\n",
            "inside house\n",
            "two guy yard\n",
            "yardwork\n",
            "man swimming\n",
            "two young white men near bush\n"
          ]
        }
      ]
    },
    {
      "cell_type": "code",
      "metadata": {
        "id": "v0kgC_S623V2",
        "colab": {
          "base_uri": "https://localhost:8080/"
        },
        "outputId": "f94b3de9-91aa-41eb-c1aa-159ccd936dbe"
      },
      "source": [
        "print(colored('Stop words, lower y puntuación + POS + Lemmatización', attrs=['bold', 'underline']))\n",
        "for i in range(5):\n",
        "  proc = p_Lemma_POS(text_train[i])\n",
        "  print(proc)"
      ],
      "execution_count": null,
      "outputs": [
        {
          "output_type": "stream",
          "name": "stdout",
          "text": [
            "\u001b[4m\u001b[1mStop words, lower y puntuación + POS + Lemmatización\u001b[0m\n",
            "inside house\n",
            "two guy yard\n",
            "yardwork\n",
            "man swim\n",
            "two young white men near bush\n"
          ]
        }
      ]
    },
    {
      "cell_type": "code",
      "metadata": {
        "id": "h-75hld-29S2",
        "colab": {
          "base_uri": "https://localhost:8080/"
        },
        "outputId": "a58dd14e-934f-409f-ebb5-e4316bd2a091"
      },
      "source": [
        "print(colored('Stop words, lower y puntuación + POS + Lemmatización + Stemming', attrs=['bold', 'underline']))\n",
        "for i in range(5):\n",
        "  proc = p_Lemma_POS_Stem(text_train[i])\n",
        "  print(proc)"
      ],
      "execution_count": null,
      "outputs": [
        {
          "output_type": "stream",
          "name": "stdout",
          "text": [
            "\u001b[4m\u001b[1mStop words, lower y puntuación + POS + Lemmatización + Stemming\u001b[0m\n",
            "insid hous\n",
            "two guy yard\n",
            "yardwork\n",
            "man swim\n",
            "two young white men near bush\n"
          ]
        }
      ]
    },
    {
      "cell_type": "markdown",
      "metadata": {
        "id": "kXlf2FtWPUVL"
      },
      "source": [
        "###Preprocesamiento"
      ]
    },
    {
      "cell_type": "markdown",
      "metadata": {
        "id": "nrXNOgVwzdPa"
      },
      "source": [
        "En esta sección se aplican todos los procesadores a las categorías de train y valid. "
      ]
    },
    {
      "cell_type": "code",
      "metadata": {
        "id": "ngwMh1CfPTi8"
      },
      "source": [
        "#Tarda mucho en correr\n",
        "trainSW = []\n",
        "trainStem = []\n",
        "trainLemma = []\n",
        "trainLemmaPOS = []\n",
        "trainProc = []\n",
        "\n",
        "largo = len(text_train)\n",
        "for i in range(largo):\n",
        "  trainSW.append(p_basico(text_train[i]))\n",
        "  trainStem.append(p_basico_Stem(text_train[i]))\n",
        "  trainLemma.append(p_basico_Lemma(text_train[i]))\n",
        "  trainLemmaPOS.append(p_Lemma_POS(text_train[i]))\n",
        "  trainProc.append(p_Lemma_POS_Stem(text_train[i]))\n"
      ],
      "execution_count": null,
      "outputs": []
    },
    {
      "cell_type": "code",
      "metadata": {
        "id": "qvtqFw-UzZeB"
      },
      "source": [
        "validSW = []\n",
        "validStem = []\n",
        "validLemma = []\n",
        "validLemmaPOS = []\n",
        "validProc = []\n",
        "\n",
        "largo = len(text_valid)\n",
        "for i in range(largo):\n",
        "  validSW.append(p_basico(text_valid[i]))\n",
        "  validStem.append(p_basico_Stem(text_valid[i]))\n",
        "  validLemma.append(p_basico_Lemma(text_valid[i]))\n",
        "  validLemmaPOS.append(p_Lemma_POS(text_valid[i]))\n",
        "  validProc.append(p_Lemma_POS_Stem(text_valid[i]))"
      ],
      "execution_count": null,
      "outputs": []
    },
    {
      "cell_type": "markdown",
      "metadata": {
        "id": "JmihK7j_O8rw"
      },
      "source": [
        "##CountVectorizer"
      ]
    },
    {
      "cell_type": "markdown",
      "metadata": {
        "id": "CsrFbtq_zz_E"
      },
      "source": [
        "Una vez preprocesados los datos, se utiliza la función Count Vectorizer para generar los vectores que contienen la frecuencia de las palabras del vocabulario para cada una de las frases utilizadas. "
      ]
    },
    {
      "cell_type": "code",
      "metadata": {
        "id": "GsKJOSwtHLoZ"
      },
      "source": [
        "vect1 = CountVectorizer(stop_words=None,lowercase=True,analyzer='word', max_df=0.60, min_df=10, ngram_range = (1,6))\n",
        "vect2 = CountVectorizer(stop_words=None,lowercase=True,analyzer='word', max_df=0.6, min_df=10, ngram_range = (1,6))\n",
        "vect3 = CountVectorizer(stop_words=None,lowercase=True,analyzer='word', max_df=0.6, min_df=10, ngram_range = (1,6))\n",
        "vect4 = CountVectorizer(stop_words=None,lowercase=True,analyzer='word', max_df=0.6, min_df=10, ngram_range = (1,6))\n",
        "vect5 = CountVectorizer(stop_words=None,lowercase=True,analyzer='word', max_df=0.6, min_df=10, ngram_range = (1,6))\n"
      ],
      "execution_count": null,
      "outputs": []
    },
    {
      "cell_type": "code",
      "metadata": {
        "id": "O6kg-WFg5y-W"
      },
      "source": [
        "vect_trainSW = vect1.fit_transform(trainSW)\n",
        "vect_trainStem = vect2.fit_transform(trainStem)\n",
        "vect_trainLemma = vect3.fit_transform(trainLemma)\n",
        "vect_trainLemmaPOS = vect4.fit_transform(trainLemmaPOS)\n",
        "vect_trainProc = vect5.fit_transform(trainProc)\n",
        "\n",
        "vect_valSW = vect1.transform(validSW)\n",
        "vect_valStem = vect2.transform(validStem)\n",
        "vect_valLemma = vect3.transform(validLemma)\n",
        "vect_valLemmaPOS = vect4.transform(validLemmaPOS)\n",
        "vect_valProc = vect5.transform(validProc)\n"
      ],
      "execution_count": null,
      "outputs": []
    },
    {
      "cell_type": "markdown",
      "metadata": {
        "id": "P0GX8moU1gj2"
      },
      "source": [
        "En la siguiente celda, se crea un modelo clasificador denominado Multinomial Naive Bayes. Se trata de un clasificador probabilístico fundamentado en el teorema de Bayes. A su vez posee hipótesis simplificadoras como la independencia entre las variables predictoras."
      ]
    },
    {
      "cell_type": "code",
      "metadata": {
        "colab": {
          "base_uri": "https://localhost:8080/"
        },
        "id": "YbKx6xW8Hkl6",
        "outputId": "bc8e15ac-9354-427a-8fae-c482b73c87d1"
      },
      "source": [
        "clfSW = MultinomialNB(alpha=1e-10)\n",
        "clfSW.fit(vect_trainSW, labels_train)\n",
        "\n",
        "clfStem = MultinomialNB(alpha=1e-10)\n",
        "clfStem.fit(vect_trainStem, labels_train)\n",
        "\n",
        "clfLemma = MultinomialNB(alpha=1e-10)\n",
        "clfLemma.fit(vect_trainLemma, labels_train)\n",
        "\n",
        "clfLemmaPOS = MultinomialNB(alpha=1e-10)\n",
        "clfLemmaPOS.fit(vect_trainLemmaPOS, labels_train)\n",
        "\n",
        "clfProc = MultinomialNB(alpha=1e-10)\n",
        "clfProc.fit(vect_trainProc, labels_train)"
      ],
      "execution_count": null,
      "outputs": [
        {
          "output_type": "execute_result",
          "data": {
            "text/plain": [
              "MultinomialNB(alpha=1e-10, class_prior=None, fit_prior=True)"
            ]
          },
          "metadata": {},
          "execution_count": 29
        }
      ]
    },
    {
      "cell_type": "markdown",
      "metadata": {
        "id": "jY_udHPpW1ua"
      },
      "source": [
        "##Resultados"
      ]
    },
    {
      "cell_type": "markdown",
      "metadata": {
        "id": "yrBIYIJGJqGB"
      },
      "source": [
        "###Scores"
      ]
    },
    {
      "cell_type": "code",
      "metadata": {
        "colab": {
          "base_uri": "https://localhost:8080/"
        },
        "id": "bnlrtFZ_HlVZ",
        "outputId": "a42225c9-9ac9-4c38-fd6d-89033581af62"
      },
      "source": [
        "print(clfSW.score(vect_trainSW, labels_train))\n",
        "print(clfStem.score(vect_trainStem, labels_train))\n",
        "print(clfLemma.score(vect_trainLemma, labels_train))\n",
        "print(clfLemmaPOS.score(vect_trainLemmaPOS, labels_train))\n",
        "print(clfProc.score(vect_trainProc, labels_train))\n"
      ],
      "execution_count": null,
      "outputs": [
        {
          "output_type": "stream",
          "name": "stdout",
          "text": [
            "0.6319072678191445\n",
            "0.6319127286495184\n",
            "0.6323168300971845\n",
            "0.631481323049983\n",
            "0.6309407008429702\n"
          ]
        }
      ]
    },
    {
      "cell_type": "code",
      "metadata": {
        "colab": {
          "base_uri": "https://localhost:8080/"
        },
        "id": "RgF0_ff8Hp5B",
        "outputId": "91df9c11-671d-4125-f107-0879ac6cfee3"
      },
      "source": [
        "print(clfSW.score(vect_valSW, labels_valid))\n",
        "print(clfStem.score(vect_valStem, labels_valid))\n",
        "print(clfLemma.score(vect_valLemma, labels_valid))\n",
        "print(clfLemmaPOS.score(vect_valLemmaPOS, labels_valid))\n",
        "print(clfProc.score(vect_valProc, labels_valid))\n"
      ],
      "execution_count": null,
      "outputs": [
        {
          "output_type": "stream",
          "name": "stdout",
          "text": [
            "0.6233489128225971\n",
            "0.6221296484454379\n",
            "0.620199146514936\n",
            "0.6223328591749644\n",
            "0.6222312538102012\n"
          ]
        }
      ]
    },
    {
      "cell_type": "markdown",
      "metadata": {
        "id": "m_H9HnoyC8MH"
      },
      "source": [
        "Mediante estos modelos con distintos tipos de preprocesamiento, no se encuentran los resultados esperados. \n",
        "\n",
        "Se llega a la conclusión de que el procesamiento en las palabras no mejora el resultado debido a que de haber un sesgo, no se encuentra en las palabras utilizadas (y por ende tampoco en sus raíces) sino en la estructura de las frases en sí.\n",
        "\n",
        "El procesamiento utilizado anteriormente apunta al significado de las palabras y no a la estructura de la frase completa (lugar donde se encuentra el sesgo). \n",
        "\n"
      ]
    },
    {
      "cell_type": "markdown",
      "metadata": {
        "id": "628to_06W6ro"
      },
      "source": [
        "###Matriz de confusión - Métricas"
      ]
    },
    {
      "cell_type": "markdown",
      "metadata": {
        "id": "rIwcm_0QDxwl"
      },
      "source": [
        "Los valores reales y los valores predictivos se pueden ver reflejados en una *matriz de confusión*. En esta se establecen cuatro categorías posibles: verdaderos positivos, falsos positivos, verdaderos negativos y falsos negativos. A partir de ella surgen diferentes métricas.\n",
        "\n",
        "En la siguiente sección se analizó la métrica primaria *accuracy* y las siguientes métricas secundarias: *precisión, sensibilidad (recall) y f1 score*. Se calcularon tanto para los micro como para los macro promedios. \n",
        "\n",
        "La métrica accuracy refiere a la cercanía en la que está el resultado de una medición del valor verdadero. En términos estadísticos, la exactitud (accuracy) está relacionada con el sesgo de una estimación. Se calcula mediante la siguiente fórmula: $\\frac{vp + vn}{vp + fp + vn + fn}$ donde vp es el valor de verdaderos positivos, vn el de verdaderos negativos, fp el de falsos positivos y fn el de falsos negativos.\n",
        "\n",
        "La precisión es el cociente $\\frac{vp}{vp + fp}$ donde vp es el número de verdaderos positivos y fp refiere al número de falsos positivos. La precisión entonces indica la habilidad del clasificador de no etiquetar como positivo una muestra que es negativa.  \n",
        "\n",
        "La sensibilidad es el cociente $\\frac{vp}{vp + fn}$ donde vp es el número de verdaderos positivos y fn el número de falsos negativos. La sensibilidad refiere a la habilidad del clasificador de encontrar todos los positivos en la muestra.\n",
        "\n",
        "El F1 score puede ser interpretado como un promedio ponderado entre la precisión y la sensibilidad, donde F1 alcanza su mejor valor en 1 y su peor valor en 0. La contribución relativa en F1 de precisión y sensibilidad es igual. La fórmula para su cálculo es la siguiente: $\\frac{2* (precisión * sensibilidad)}{precisión + sensibilidad}$ .  \n",
        "\n",
        "Por otro lado, los micro y macro promedios (para cualquier métrica) calculan cosas ligeramente diferentes y, por lo tanto, su interpretación difiere. Un macro-promedio calcula la métrica independientemente para cada clase y luego toma el promedio (por lo tanto, tratará a todas las clases por igual), mientras que un micro-promedio agrega las contribuciones de todas las clases para calcular la métrica promedio. \n",
        "\n",
        "En el caso de haber desbalance en la cantidad de datos de cada clase, se ve afectado solamente el micro-promedio. Por otro lado, cuando las clases se encuentran balanceadas, el micro y el macro promedio serán iguales. En el set de datos analizados se observa un balance entre las clases por lo que se opta por utilizar el macro-promedio de las métricas, dado que cuando las clases se encuentran balanceadas ambos promedios serán iguales. \n",
        "\n",
        "En la planilla adjunta se muestran los resultados obtenidos para el macro average y también los resultados del micro average para algunos de los datos con el fin de demostrar la similitud entre estos dos parámetros. \n",
        "\n",
        "\n",
        "\n"
      ]
    },
    {
      "cell_type": "code",
      "metadata": {
        "id": "zLUg2uZwZ9jf"
      },
      "source": [
        "#Parámetros de la matriz de confusión\n",
        "def param(matriz_conf, clasificacion):\n",
        "  TP = matriz_conf[clasificacion, clasificacion]\n",
        "  FP = np.sum(matriz_conf[:,clasificacion]) - TP\n",
        "  FN = np.sum(matriz_conf[clasificacion,:]) - TP\n",
        "  TN = np.sum(matriz_conf) - (FP + FN + TP)\n",
        "\n",
        "  accuracy = (TP+TN)*100/(np.sum([TP,TN,FP,FN])) #exactitud\n",
        "  precision = TP*100/(TP+FP)\n",
        "  sensibilidad = TP*100/(TP+FN) #recall\n",
        "  f1 = 2*(precision*sensibilidad)/(precision+sensibilidad)\n",
        "  return TP, FP, TN, FN, accuracy, precision, sensibilidad, f1"
      ],
      "execution_count": null,
      "outputs": []
    },
    {
      "cell_type": "code",
      "metadata": {
        "id": "VXmJs-ZZmpwV"
      },
      "source": [
        "#MACRO average\n",
        "def Maverage(matriz_conf):\n",
        "  preM = 0\n",
        "  recM = 0\n",
        "  for i in range(3):\n",
        "    TP,TN,FP,FN, acc, prec, sen, f1 = param(matriz_conf,i)\n",
        "    preM = preM + prec\n",
        "    recM = recM + sen\n",
        "  preM = preM/3 #-> macro promedio de precision\n",
        "  recM = recM/3 #-> macro promedio de sensibilidad/recall\n",
        "  FM = 2*(preM*recM)/(preM+recM) #-> macro promedio de f1\n",
        "  return preM, recM, FM     \n"
      ],
      "execution_count": null,
      "outputs": []
    },
    {
      "cell_type": "code",
      "metadata": {
        "id": "-UVN_gRbW_L1"
      },
      "source": [
        "matriz_confSW = confusion_matrix(labels_valid, clfSW.predict(vect_valSW) )\n",
        "matriz_confStem = confusion_matrix(labels_valid, clfStem.predict(vect_valStem) )\n",
        "matriz_confLemma = confusion_matrix(labels_valid, clfLemma.predict(vect_valLemma) )\n",
        "matriz_confLemmaPOS = confusion_matrix(labels_valid, clfLemmaPOS.predict(vect_valLemmaPOS) )\n",
        "matriz_confProc = confusion_matrix(labels_valid, clfProc.predict(vect_valProc) )"
      ],
      "execution_count": null,
      "outputs": []
    },
    {
      "cell_type": "code",
      "metadata": {
        "colab": {
          "base_uri": "https://localhost:8080/"
        },
        "id": "OzUxE4XIBcGY",
        "outputId": "9b9d403f-a67d-4b81-a876-eaa68f52e6d4"
      },
      "source": [
        "print(Counter(clfSW.predict(vect_valSW)))\n",
        "print(Counter(clfStem.predict(vect_valStem)))\n",
        "print(Counter(clfLemma.predict(vect_valLemma)))\n",
        "print(Counter(clfLemmaPOS.predict(vect_valLemmaPOS)))\n",
        "print(Counter(clfProc.predict(vect_valProc)))"
      ],
      "execution_count": null,
      "outputs": [
        {
          "output_type": "stream",
          "name": "stdout",
          "text": [
            "Counter({'entailment': 3362, 'neutral': 3243, 'contradiction': 3237})\n",
            "Counter({'entailment': 3352, 'contradiction': 3271, 'neutral': 3219})\n",
            "Counter({'entailment': 3342, 'neutral': 3276, 'contradiction': 3224})\n",
            "Counter({'entailment': 3375, 'contradiction': 3259, 'neutral': 3208})\n",
            "Counter({'entailment': 3360, 'contradiction': 3261, 'neutral': 3221})\n"
          ]
        }
      ]
    },
    {
      "cell_type": "markdown",
      "metadata": {
        "id": "Wc7-tJqsCW0Y"
      },
      "source": [
        "Se puede observar que no hay alguna clase con mas predominancia en cada caso. Por el contrario, cada una aparece en un 33% de las veces. Esto también se observó en la sección de \"Análisis de los datos\" para los subsets de train y valid por separado. Por ese motivo, es correcto utilizar un macroaverage el cual le otorga igual peso a cada clase. Por otro lado, el microaverage le da igual peso a cada observación, por lo que tiene en cuenta si la cantidad de clases no es balanceada."
      ]
    },
    {
      "cell_type": "code",
      "metadata": {
        "colab": {
          "base_uri": "https://localhost:8080/"
        },
        "id": "xjVAc_3NJvR9",
        "outputId": "136bb0a1-1f43-44e6-c885-74acbe8d2587"
      },
      "source": [
        "#Macro average\n",
        "preSW, recSW, FSW = Maverage(matriz_confSW)\n",
        "accSW = accuracy_score(labels_valid, clfSW.predict(vect_valSW))\n",
        "preStem, recStem, FStem = Maverage(matriz_confStem)\n",
        "accStem = accuracy_score(labels_valid, clfStem.predict(vect_valStem))\n",
        "preLemma, recLemma, FLemma = Maverage(matriz_confLemma)\n",
        "accLemma = accuracy_score(labels_valid, clfLemma.predict(vect_valLemma))\n",
        "preLemmaPOS, recLemmaPOS, FLemmaPOS = Maverage(matriz_confLemmaPOS)\n",
        "accLemmaPOS = accuracy_score(labels_valid, clfLemmaPOS.predict(vect_valLemmaPOS))\n",
        "preProc, recProc, FProc = Maverage(matriz_confProc)\n",
        "accProc = accuracy_score(labels_valid, clfProc.predict(vect_valProc))\n",
        "print(colored('MACRO AVERAGE', attrs=['bold', 'underline']))\n",
        "print(\"p_basico: \"+\"Precisión: \"+str(preSW)+\", Sensibilidad: \"+str(recSW)+\", F1: \"+str(FSW)+\" y accuracy: \"+str(accSW))\n",
        "print(\"p_basico_Stem: \"+\"Precisión: \"+str(preStem)+\", Sensibilidad: \"+str(recStem)+\", F1: \"+str(FStem)+\" y accuracy: \"+str(accStem))\n",
        "print(\"p_basico_Lemma: \"+\"Precisión: \"+str(preLemma)+\", Sensibilidad: \"+str(recLemma)+\", F1: \"+str(FLemma)+\" y accuracy: \"+str(accLemma))\n",
        "print(\"p_Lemma_POS: \"+\"Precisión: \"+str(preLemmaPOS)+\", Sensibilidad: \"+str(recLemmaPOS)+\", F1: \"+str(FLemmaPOS)+\" y accuracy: \"+str(accLemmaPOS))\n",
        "print(\"p_Lemma_POS_Stem: \"+\"Precisión: \"+str(preProc)+\", Sensibilidad: \"+str(recProc)+\", F1: \"+str(FProc)+\" y accuracy: \"+str(accProc))\n",
        "\n"
      ],
      "execution_count": null,
      "outputs": [
        {
          "output_type": "stream",
          "name": "stdout",
          "text": [
            "\u001b[4m\u001b[1mMACRO AVERAGE\u001b[0m\n",
            "p_basico: Precisión: 62.34075760776264, Sensibilidad: 62.33295829793752, F1: 62.33685770889636 y accuracy: 0.6233489128225971\n",
            "p_basico_Stem: Precisión: 62.210236587517976, Sensibilidad: 62.207086194171985, F1: 62.20866135095914 y accuracy: 0.6221296484454379\n",
            "p_basico_Lemma: Precisión: 62.027067683811765, Sensibilidad: 62.02109084577481, F1: 62.02407912080649 y accuracy: 0.620199146514936\n",
            "p_Lemma_POS: Precisión: 62.23168805774517, Sensibilidad: 62.22449367706823, F1: 62.228090659465586 y accuracy: 0.6223328591749644\n",
            "p_Lemma_POS_Stem: Precisión: 62.22086485227235, Sensibilidad: 62.216091195865864, F1: 62.218477932505486 y accuracy: 0.6222312538102012\n"
          ]
        }
      ]
    },
    {
      "cell_type": "markdown",
      "metadata": {
        "id": "81OxA-xarqzU"
      },
      "source": [
        "Las métricas obtenidas para cada procesador variando los diferentes parámetros se encuentran en una planilla adjunta con el trabajo.\n"
      ]
    },
    {
      "cell_type": "markdown",
      "metadata": {
        "id": "zFH3LpnzDjNn"
      },
      "source": [
        "#Modelo sin preprocesamiento de texto"
      ]
    },
    {
      "cell_type": "markdown",
      "metadata": {
        "id": "-7VYrriJZx6u"
      },
      "source": [
        "Debido a los malos resultados obtenidos con el procesamiento de texto se decide realizar el entrenamiento de otro modelo sin el preprocesamiento de este.\n",
        "\n",
        "En la siguiente celda, se utiliza la función TF-IDF (term frequency - inverse document frequency) para expresar cuan relevante es una palabra para un documento en una colección. \n",
        "\n",
        "El valor tf-idf aumenta proporcionalmente al número de veces que una palabra aparece en el documento, pero es compensada por la frecuencia de la palabra en la colección de documentos, lo que permite manejar el hecho de que algunas palabras son generalmente más comunes que otras."
      ]
    },
    {
      "cell_type": "code",
      "metadata": {
        "colab": {
          "base_uri": "https://localhost:8080/"
        },
        "id": "hbPzI84fE0Y6",
        "outputId": "2e85df0c-4cd6-4548-ae61-8f6894c9ac1a"
      },
      "source": [
        "#cv = CountVectorizer(min_df=5, max_df= 0.8, ngram_range = (1,3)) \n",
        "cv = TfidfVectorizer(min_df=2, max_df= 0.95, ngram_range = (1,3))\n",
        "cv_train = cv.fit_transform(text_train)\n",
        "cv_valid = cv.transform(text_valid)\n",
        "clf = MultinomialNB(alpha=0.1395)\n",
        "clf.fit(cv_train, labels_train)"
      ],
      "execution_count": null,
      "outputs": [
        {
          "output_type": "execute_result",
          "data": {
            "text/plain": [
              "MultinomialNB(alpha=0.1395, class_prior=None, fit_prior=True)"
            ]
          },
          "metadata": {},
          "execution_count": 57
        }
      ]
    },
    {
      "cell_type": "markdown",
      "metadata": {
        "id": "xzJkYd4hXL5G"
      },
      "source": [
        "#Resultados\n"
      ]
    },
    {
      "cell_type": "markdown",
      "metadata": {
        "id": "9kZBDlwuXNla"
      },
      "source": [
        "##Scores"
      ]
    },
    {
      "cell_type": "code",
      "metadata": {
        "colab": {
          "base_uri": "https://localhost:8080/"
        },
        "id": "gHp_aB1GXQcM",
        "outputId": "ca96d088-fe09-48e7-b3b4-dc74874bdb10"
      },
      "source": [
        "print(clf.score(cv_train, labels_train))\n",
        "print(clf.score(cv_valid, labels_valid))"
      ],
      "execution_count": null,
      "outputs": [
        {
          "output_type": "stream",
          "name": "stdout",
          "text": [
            "0.7518653286418733\n",
            "0.6557610241820768\n"
          ]
        }
      ]
    },
    {
      "cell_type": "markdown",
      "metadata": {
        "id": "5SJcyhTXdcZw"
      },
      "source": [
        "##Matriz de confusión - Métricas"
      ]
    },
    {
      "cell_type": "markdown",
      "metadata": {
        "id": "w5WmfCeGd-eM"
      },
      "source": [
        "Los parámetros min_df, max_df, ngram_range y alpha se variaron convenientemente con el fin de obtener el mejor score posible. \n",
        "\n",
        "Las métricas obtenidas variando los diferentes parámetros se encuentra adjunta en una tabla con el presente trabajo. "
      ]
    },
    {
      "cell_type": "code",
      "metadata": {
        "colab": {
          "base_uri": "https://localhost:8080/"
        },
        "id": "-4cPIgTUFr6s",
        "outputId": "1da05fb1-3fc3-473c-89b6-d58bb53efde3"
      },
      "source": [
        "matriz_confusion = confusion_matrix(labels_valid, clf.predict(cv_valid))\n",
        "preval, recval, Fval = Maverage(matriz_confusion)\n",
        "accval = accuracy_score(labels_valid, clf.predict(cv_valid))\n",
        "print(colored('MACRO AVERAGE', attrs=['bold', 'underline']))\n",
        "print(\"Precisión: \"+str(preval)+\", Sensibilidad: \"+str(recval)+\", Accuracy: \"+str(accval)+\" y F1: \"+str(Fval))"
      ],
      "execution_count": null,
      "outputs": [
        {
          "output_type": "stream",
          "name": "stdout",
          "text": [
            "\u001b[4m\u001b[1mMACRO AVERAGE\u001b[0m\n",
            "Precisión: 65.60591827144584, Sensibilidad: 65.56521382898798, Accuracy: 0.6557610241820768 y F1: 65.58555973460612\n"
          ]
        }
      ]
    },
    {
      "cell_type": "markdown",
      "metadata": {
        "id": "1cmigt4Vf3tQ"
      },
      "source": [
        "A continuación se puede observar la matriz de confusión para cada categoría junto con los respectivos valores."
      ]
    },
    {
      "cell_type": "code",
      "metadata": {
        "colab": {
          "base_uri": "https://localhost:8080/",
          "height": 518
        },
        "id": "bLOhoIzeUgWm",
        "outputId": "8aa82e29-7465-4cea-edb8-54427a0ba998"
      },
      "source": [
        "predict = clf.predict(cv_valid) \n",
        "clasificacion_real = labels_valid\n",
        "\n",
        "matriz_conf = confusion_matrix(clasificacion_real, predict)\n",
        "print(matriz_conf)\n",
        "\n",
        "fig = plt.figure(figsize=(8, 8))\n",
        "ax = fig.add_subplot(111)\n",
        "cax = ax.matshow(matriz_conf)\n",
        "plt.title('Matriz de confusión')\n",
        "fig.colorbar(cax)\n",
        "labels = ['contradiction','entailment','neutral']\n",
        "ax.set_xticklabels([''] + labels)\n",
        "ax.set_yticklabels([''] + labels)\n",
        "plt.xlabel('Predicción')\n",
        "plt.ylabel('Clasificación real')\n",
        "plt.show()"
      ],
      "execution_count": null,
      "outputs": [
        {
          "output_type": "stream",
          "name": "stdout",
          "text": [
            "[[2182  552  544]\n",
            " [ 634 2194  501]\n",
            " [ 551  619 2065]]\n"
          ]
        },
        {
          "output_type": "display_data",
          "data": {
            "image/png": "[encoded data removed]",
            "text/plain": [
              "<Figure size 576x576 with 2 Axes>"
            ]
          },
          "metadata": {
            "needs_background": "light"
          }
        }
      ]
    },
    {
      "cell_type": "markdown",
      "metadata": {
        "id": "M7lLpiTC2RLo"
      },
      "source": [
        "Las conclusiones generales del trabajo se encuentran detalladas en la parte dos correspondiente al modelo MLP."
      ]
    }
  ]
}